{
  "nbformat": 4,
  "nbformat_minor": 0,
  "metadata": {
    "colab": {
      "name": "project_3crackhole",
      "provenance": [],
      "collapsed_sections": [],
      "authorship_tag": "ABX9TyMJ/AXWQM2Sf2914WlMJ0zE",
      "include_colab_link": true
    },
    "kernelspec": {
      "name": "python3",
      "display_name": "Python 3"
    },
    "language_info": {
      "name": "python"
    }
  },
  "cells": [
    {
      "cell_type": "markdown",
      "metadata": {
        "id": "view-in-github",
        "colab_type": "text"
      },
      "source": [
        "<a href=\"https://colab.research.google.com/github/WissamY97/mec647/blob/Wissam/project_3crackhole.ipynb\" target=\"_parent\"><img src=\"https://colab.research.google.com/assets/colab-badge.svg\" alt=\"Open In Colab\"/></a>"
      ]
    },
    {
      "cell_type": "code",
      "execution_count": 10,
      "metadata": {
        "id": "fE9D4npKZddh"
      },
      "outputs": [],
      "source": [
        "%%capture\n",
        "import sys\n",
        "\n",
        "try:\n",
        "    import google.colab  # noqa: F401\n",
        "except ImportError:\n",
        "    import ufl  # noqa: F401\n",
        "    import dolfinx  # noqa: F401\n",
        "else:\n",
        "    try:\n",
        "        import ufl\n",
        "        import dolfinx\n",
        "    except ImportError:\n",
        "        !wget \"https://fem-on-colab.github.io/releases/fenicsx-install.sh\" -O \"/tmp/fenicsx-install.sh\" && bash \"/tmp/fenicsx-install.sh\";\n",
        "        import ufl  # noqa: F401\n",
        "        import dolfinx  # noqa: F401"
      ]
    },
    {
      "cell_type": "code",
      "source": [
        "%%capture\n",
        "!sudo apt install libgl1-mesa-glx xvfb;\n",
        "!{sys.executable} -m pip install pythreejs;\n",
        "!{sys.executable} -m pip install ipygany;\n",
        "!{sys.executable} -m pip install --upgrade pyyaml\n",
        "try:\n",
        "    import google.colab\n",
        "except ImportError:\n",
        "    pass\n",
        "else:\n",
        "    pass\n",
        "    # google.colab.output.enable_custom_widget_manager();\n",
        "try:\n",
        "    import pyvista\n",
        "except ImportError:\n",
        "    !pip3 install --upgrade pyvista itkwidgets;\n",
        "    import pyvista  # noqa: F401\n",
        "    from pyvista.utilities import xvfb\n",
        "\n",
        "try:\n",
        "    import gmsh\n",
        "except ImportError:\n",
        "    !{sys.executable} -m pip install gmsh\n",
        "    import gmsh"
      ],
      "metadata": {
        "id": "PyQiDcnwaq4Z"
      },
      "execution_count": 11,
      "outputs": []
    },
    {
      "cell_type": "code",
      "source": [
        "!rm -rf mec647\n",
        "\n",
        "try:\n",
        "  !git clone https://github.com/kumiori/mec647.git\n",
        "except Exception:\n",
        "  print('Something went wrong')\n",
        "\n",
        "  !rm -rf mec647\n",
        "  !git clone https://github.com/kumiori/mec647.git"
      ],
      "metadata": {
        "colab": {
          "base_uri": "https://localhost:8080/"
        },
        "id": "IhuHX89zbJZ9",
        "outputId": "6f7325d6-2500-4871-b973-cc6a67c9ade1"
      },
      "execution_count": 12,
      "outputs": [
        {
          "output_type": "stream",
          "name": "stdout",
          "text": [
            "Cloning into 'mec647'...\n",
            "remote: Enumerating objects: 542, done.\u001b[K\n",
            "remote: Counting objects: 100% (542/542), done.\u001b[K\n",
            "remote: Compressing objects: 100% (442/442), done.\u001b[K\n",
            "remote: Total 542 (delta 233), reused 242 (delta 81), pack-reused 0\u001b[K\n",
            "Receiving objects: 100% (542/542), 7.22 MiB | 11.81 MiB/s, done.\n",
            "Resolving deltas: 100% (233/233), done.\n"
          ]
        }
      ]
    },
    {
      "cell_type": "code",
      "source": [
        "sys.path.append('mec647/')"
      ],
      "metadata": {
        "id": "ENMOy5HLbS_C"
      },
      "execution_count": 13,
      "outputs": []
    },
    {
      "cell_type": "code",
      "source": [
        "from utils.viz import plot_mesh"
      ],
      "metadata": {
        "id": "ddEXZFeybVAu"
      },
      "execution_count": 14,
      "outputs": []
    },
    {
      "cell_type": "code",
      "source": [
        "# Parameters\n",
        "\n",
        "parameters = {\n",
        "    'loading': {\n",
        "        'min': 0,\n",
        "        'max': 1\n",
        "    },\n",
        "    'geometry': {\n",
        "        'geom_type': 'bar',\n",
        "        'Lx': 1.,\n",
        "        'Ly': 0.5\n",
        "    },\n",
        "    'model': {\n",
        "        'mu': 1.,\n",
        "        'lmbda': 0.\n",
        "    },\n",
        "    'solvers': {\n",
        "        'snes': {\n",
        "            'snes_type': 'newtontr',\n",
        "            'snes_stol': 1e-8,\n",
        "            'snes_atol': 1e-8,\n",
        "            'snes_rtol': 1e-8,\n",
        "            'snes_max_it': 100,\n",
        "            'snes_monitor': \"\",\n",
        "            'ksp_type': 'preonly',\n",
        "            'pc_type': 'lu',\n",
        "            'pc_factor_mat_solver_type': 'mumps'\n",
        "        }\n",
        "    }\n",
        "}\n",
        "\n",
        "# parameters.get('loading')"
      ],
      "metadata": {
        "id": "Hlj93Wg_eyiB"
      },
      "execution_count": null,
      "outputs": []
    },
    {
      "cell_type": "code",
      "source": [
        "\n",
        "from mpi4py import MPI\n",
        "\n",
        "\n",
        "def mesh_3crackhole(name,\n",
        "                     Lx,\n",
        "                     Ly,\n",
        "                     lc,\n",
        "                     tdim,\n",
        "                     order=1,\n",
        "                     msh_file=None,\n",
        "                     comm=MPI.COMM_WORLD):\n",
        "    \"\"\"\n",
        "    Create mesh of 3d tensile test specimen according to ISO 6892-1:2019 using the Python API of Gmsh.\n",
        "    \"\"\"\n",
        "    # Perform Gmsh work only on rank = 0\n",
        "\n",
        "    if comm.rank == 0:\n",
        "\n",
        "        import gmsh\n",
        "\n",
        "        # Initialise gmsh and set options\n",
        "        gmsh.initialize()\n",
        "        gmsh.option.setNumber(\"General.Terminal\", 1)\n",
        "\n",
        "        gmsh.option.setNumber(\"Mesh.Algorithm\", 6)\n",
        "        model = gmsh.model()\n",
        "        model.add(\"Rectangle\")\n",
        "        model.setCurrent(\"Rectangle\")\n",
        "        p1 = model.geo.addPoint(0, 0.0, 0,1.0, tag=1)\n",
        "        p2 = model.geo.addPoint(Lx, 0.0, 0,1.0, tag=2)\n",
        "        p3 = model.geo.addPoint(1.0,0.5, 0.0,1, tag=3)\n",
        "        p4 = model.geo.addPoint(0,0.5, 0.0,1, tag=4)\n",
        "        p5 = model.geo.addPoint(0, 0.275, 0, 1, tag=5)\n",
        "        p6 = model.geo.addPoint(0.25,0.275, 0,0.5, tag=6)\n",
        "        p7 = model.geo.addPoint(0.35, 0.251, 0.0,0.2, tag=7)\n",
        "        p8 = model.geo.addPoint(0.35,0.249, 0,0.2, tag=8)\n",
        "        p9 = model.geo.addPoint(0.75,0.25, 0,0.2, tag=9)\n",
        "        p10= model.geo.addPoint(0.25,0.225,0,0.5, tag=10)\n",
        "        p11= model.geo.addPoint(0,0.225,0,1, tag=11)\n",
        "        # points = [p1, p2, p3, p4, p5, p6, p7, p8,p9,p10,p11]\n",
        "        bottom = model.geo.addLine(p1, p2, tag=1)\n",
        "        right = model.geo.addLine(p2, p3, tag=2)\n",
        "        top = model.geo.addLine(p3, p4, tag=3)\n",
        "        left1 = model.geo.addLine(p4, p5, tag=4)\n",
        "        halftop = model.geo.addLine(p5, p6, tag=5)\n",
        "        inclined1 = model.geo.addLine(p6, p7, tag=6)\n",
        "        liptop = model.geo.addLine(p7, p8, tag=7)\n",
        "        lipbot = model.geo.addLine(p8, p9, tag=8)\n",
        "        inclined2 = model.geo.addLine(p9, p10, tag=9)\n",
        "        halfbottom = model.geo.addLine(p10, p11, tag=10)\n",
        "        left2 = model.geo.addLine(p11, p1, tag=11)\n",
        "        cloop1 = model.geo.addCurveLoop([bottom, right, top, left1, halftop, inclined1, liptop, lipbot, inclined2,halfbottom, left2])\n",
        "        # surface_1 =\n",
        "        model.geo.addPlaneSurface([cloop1])\n",
        "\n",
        "        model.geo.synchronize()\n",
        "        surface_entities = [model[1] for model in model.getEntities(tdim)]\n",
        "        model.addPhysicalGroup(tdim, surface_entities, tag=5)\n",
        "        model.setPhysicalName(tdim, 5, \"Rectangle surface\")\n",
        "\n",
        "        # Set mesh size via points\n",
        "        # gmsh.model.mesh.setSize(points, lc)  # heuristic\n",
        "\n",
        "        # gmsh.model.mesh.optimize(\"Netgen\")\n",
        "\n",
        "        # Set geometric order of mesh cells\n",
        "        gmsh.model.mesh.setOrder(order)\n",
        "\n",
        "        # Define physical groups for subdomains (! target tag > 0)\n",
        "        # domain = 1\n",
        "        # gmsh.model.addPhysicalGroup(tdim, [v[1] for v in volumes], domain)\n",
        "        # gmsh.model.setPhysicalName(tdim, domain, 'domain')\n",
        "        gmsh.model.addPhysicalGroup(tdim - 1, [5], tag=9)\n",
        "        gmsh.model.setPhysicalName(tdim - 1, 9, \"botfissure1\")\n",
        "        gmsh.model.addPhysicalGroup(tdim - 1, [6], tag=10)\n",
        "        gmsh.model.setPhysicalName(tdim - 1, 10, \"botfissure2\")\n",
        "        gmsh.model.addPhysicalGroup(tdim - 1, [3], tag=11)\n",
        "        gmsh.model.setPhysicalName(tdim - 1, 11, \"top\")\n",
        "        gmsh.model.addPhysicalGroup(tdim - 1, [1], tag=12)\n",
        "        gmsh.model.setPhysicalName(tdim - 1, 12, \"bottom\")\n",
        "        gmsh.model.addPhysicalGroup(tdim - 1, [7], tag=13)\n",
        "        gmsh.model.setPhysicalName(tdim - 1, 13, \"topfissure1\")\n",
        "        gmsh.model.addPhysicalGroup(tdim - 1, [8], tag=14)\n",
        "        gmsh.model.setPhysicalName(tdim - 1, 14, \"topfissure2\")\n",
        "        \n",
        "\n",
        "        model.mesh.generate(tdim)\n",
        "\n",
        "        # Optional: Write msh file\n",
        "        if msh_file is not None:\n",
        "            gmsh.write(msh_file)\n",
        "            # gmsh.write(name + \".step\")\n",
        "\n",
        "    return gmsh.model if comm.rank == 0 else None, tdim\n",
        "\n"
      ],
      "metadata": {
        "id": "DH6YrFbpbYU_"
      },
      "execution_count": 6,
      "outputs": []
    }
  ]
}